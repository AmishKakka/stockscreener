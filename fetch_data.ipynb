{
 "cells": [
  {
   "cell_type": "code",
   "execution_count": 98,
   "metadata": {},
   "outputs": [],
   "source": [
    "from imports import pd, time\n",
    "import numpy as np\n",
    "import yfinance as source\n",
    "from itertools import islice"
   ]
  },
  {
   "cell_type": "code",
   "execution_count": 99,
   "metadata": {},
   "outputs": [],
   "source": [
    "# URLs for the NASDAQ Trader Symbol Directory files\n",
    "# List is updated everyday.\n",
    "nasdaq_url = \"ftp://ftp.nasdaqtrader.com/SymbolDirectory/nasdaqlisted.txt\"\n",
    "# other_url = \"ftp://ftp.nasdaqtrader.com/SymbolDirectory/otherlisted.txt\"\n",
    "\n",
    "# Load NASDAQ-listed stocks\n",
    "nasdaq_data = pd.read_csv(nasdaq_url, sep=\"|\")\n",
    "# Remove the last row (footer info)\n",
    "nasdaq_data = nasdaq_data[:-1]\n",
    "\n",
    "# # Load other-listed stocks (including NYSE, AMEX, etc.)\n",
    "# other_data = pd.read_csv(other_url, sep=\"|\")\n",
    "# # Filter for NYSE stocks\n",
    "# nyse_stocks = other_data[other_data[\"Exchange\"] == \"N\"]"
   ]
  },
  {
   "cell_type": "code",
   "execution_count": null,
   "metadata": {},
   "outputs": [],
   "source": [
    "#  Filter for companies that are not bankrupt, delisted, etc.\n",
    "normal_cmps = nasdaq_data.where(nasdaq_data[\"Financial Status\"] == \"N\").dropna()\n",
    "normal_cmps.index = range(len(normal_cmps))\n",
    "normal_cmps"
   ]
  },
  {
   "cell_type": "code",
   "execution_count": null,
   "metadata": {},
   "outputs": [],
   "source": [
    "nasdaq_tickers = normal_cmps[[\"Symbol\", \"Security Name\"]]\n",
    "nasdaq_tickers.loc[:, \"Exchange\"] = \"NASDAQ\"\n",
    "nasdaq_tickers"
   ]
  },
  {
   "cell_type": "code",
   "execution_count": 107,
   "metadata": {},
   "outputs": [],
   "source": [
    "data_points = ['symbol', 'shortName', 'previousClose', 'open', 'dayLow', 'dayHigh', 'regularMarketPreviousClose',\n",
    "               'regularMarketOpen', 'regularMarketDayLow', 'regularMarketDayHigh', 'dividendRate', 'dividendYield',\n",
    "              'fiveYearAvgDividendYield', 'beta', 'trailingPE', 'forwardPE', 'volume',  'marketCap',\n",
    "              'fiftyTwoWeekLow', 'fiftyTwoWeekHigh', 'priceToSalesTrailing12Months', 'fiftyDayAverage', \n",
    "              'twoHundredDayAverage', 'profitMargins', 'bookValue', 'priceToBook', 'earningsQuarterlyGrowth', \n",
    "              'netIncomeToCommon', 'trailingEps', 'forwardEps', 'enterpriseToRevenue', 'enterpriseToEbitda', '52WeekChange',\n",
    "              'ebitda', 'totalDebt', 'quickRatio', 'currentRatio', 'totalRevenue', 'debtToEquity', 'revenuePerShare', 'returnOnAssets', \n",
    "              'returnOnEquity', 'grossProfits', 'freeCashflow', 'operatingCashflow', 'earningsGrowth', 'revenueGrowth', 'grossMargins', \n",
    "              'ebitdaMargins', 'operatingMargins', 'trailingPegRatio']\n",
    "def download_data(ticker):\n",
    "    try: \n",
    "        stock = source.Ticker(ticker)\n",
    "        stock_info = stock.info\n",
    "        print(f\"Fetched data for {ticker}\")\n",
    "        return [stock_info.get(key, None) for key in data_points]\n",
    "    except Exception as e:\n",
    "        print(f\"Could not get data for {ticker}\")\n"
   ]
  },
  {
   "cell_type": "code",
   "execution_count": null,
   "metadata": {},
   "outputs": [],
   "source": [
    "stocksData = []\n",
    "batch_size = 50\n",
    "m = len(list(nasdaq_tickers[\"Symbol\"]))\n",
    "for b in range(0, m, batch_size):\n",
    "    for i in range(batch_size):\n",
    "        stocksData.append(download_data(nasdaq_tickers[\"Symbol\"][b+i]))\n",
    "    time.sleep(1)"
   ]
  },
  {
   "cell_type": "code",
   "execution_count": 136,
   "metadata": {},
   "outputs": [
    {
     "name": "stdout",
     "output_type": "stream",
     "text": [
      "4157 stocks data fetched!\n",
      "Saved data to csv file.\n"
     ]
    }
   ],
   "source": [
    "stocksData = [i for i in stocksData if i!=None]\n",
    "print(f\"{len(stocksData)} stocks data fetched!\")\n",
    "\n",
    "stocksData_df = pd.DataFrame(stocksData, columns=data_points)\n",
    "stocksData_df = stocksData_df.dropna(subset=[\"symbol\"])\n",
    "stocksData_df = stocksData_df.replace([np.nan], 0.0)\n",
    "stocksData_df.columns = [i.capitalize() for i in stocksData_df.columns]\n",
    "stocksData_df.to_csv(\"stocksData.csv\", index=False)\n",
    "print(\"Saved data to csv file.\")"
   ]
  },
  {
   "cell_type": "code",
   "execution_count": 135,
   "metadata": {},
   "outputs": [
    {
     "data": {
      "text/plain": [
       "Index(['Symbol', 'Shortname', 'Previousclose', 'Open', 'Daylow', 'Dayhigh',\n",
       "       'Regularmarketpreviousclose', 'Regularmarketopen',\n",
       "       'Regularmarketdaylow', 'Regularmarketdayhigh', 'Dividendrate',\n",
       "       'Dividendyield', 'Fiveyearavgdividendyield', 'Beta', 'Trailingpe',\n",
       "       'Forwardpe', 'Volume', 'Marketcap', 'Fiftytwoweeklow',\n",
       "       'Fiftytwoweekhigh', 'Pricetosalestrailing12months', 'Fiftydayaverage',\n",
       "       'Twohundreddayaverage', 'Profitmargins', 'Bookvalue', 'Pricetobook',\n",
       "       'Earningsquarterlygrowth', 'Netincometocommon', 'Trailingeps',\n",
       "       'Forwardeps', 'Enterprisetorevenue', 'Enterprisetoebitda',\n",
       "       '52weekchange', 'Ebitda', 'Totaldebt', 'Quickratio', 'Currentratio',\n",
       "       'Totalrevenue', 'Debttoequity', 'Revenuepershare', 'Returnonassets',\n",
       "       'Returnonequity', 'Grossprofits', 'Freecashflow', 'Operatingcashflow',\n",
       "       'Earningsgrowth', 'Revenuegrowth', 'Grossmargins', 'Ebitdamargins',\n",
       "       'Operatingmargins', 'Trailingpegratio'],\n",
       "      dtype='object')"
      ]
     },
     "execution_count": 135,
     "metadata": {},
     "output_type": "execute_result"
    }
   ],
   "source": []
  },
  {
   "cell_type": "code",
   "execution_count": null,
   "metadata": {},
   "outputs": [],
   "source": []
  }
 ],
 "metadata": {
  "kernelspec": {
   "display_name": "stockENV",
   "language": "python",
   "name": "python3"
  },
  "language_info": {
   "codemirror_mode": {
    "name": "ipython",
    "version": 3
   },
   "file_extension": ".py",
   "mimetype": "text/x-python",
   "name": "python",
   "nbconvert_exporter": "python",
   "pygments_lexer": "ipython3",
   "version": "3.12.6"
  }
 },
 "nbformat": 4,
 "nbformat_minor": 2
}
